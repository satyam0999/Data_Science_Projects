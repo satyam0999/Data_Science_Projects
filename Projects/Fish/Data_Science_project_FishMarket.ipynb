{
  "nbformat": 4,
  "nbformat_minor": 0,
  "metadata": {
    "colab": {
      "name": "Data_Science_project_FishMarket.ipynb",
      "provenance": [],
      "collapsed_sections": [],
      "authorship_tag": "ABX9TyMGkjU+MBe+riJgI4LiLTDC",
      "include_colab_link": true
    },
    "kernelspec": {
      "name": "python3",
      "display_name": "Python 3"
    },
    "language_info": {
      "name": "python"
    }
  },
  "cells": [
    {
      "cell_type": "markdown",
      "metadata": {
        "id": "view-in-github",
        "colab_type": "text"
      },
      "source": [
        "<a href=\"https://colab.research.google.com/github/satyam0999/Data_Science_Projects/blob/main/Projects/Fish/Data_Science_project_FishMarket.ipynb\" target=\"_parent\"><img src=\"https://colab.research.google.com/assets/colab-badge.svg\" alt=\"Open In Colab\"/></a>"
      ]
    },
    {
      "cell_type": "code",
      "metadata": {
        "id": "J5OFPplT5-pD"
      },
      "source": [
        "import pandas as pd\n",
        "import numpy as np\n"
      ],
      "execution_count": null,
      "outputs": []
    },
    {
      "cell_type": "code",
      "metadata": {
        "id": "LUREoFjY6Jj-"
      },
      "source": [
        "df = pd.read_csv('Fish.csv')"
      ],
      "execution_count": null,
      "outputs": []
    },
    {
      "cell_type": "code",
      "metadata": {
        "colab": {
          "base_uri": "https://localhost:8080/",
          "height": 203
        },
        "id": "RlY5zd7A6Pty",
        "outputId": "14cb367d-e673-4c85-886e-e218a80d8ae6"
      },
      "source": [
        "df.head()"
      ],
      "execution_count": null,
      "outputs": [
        {
          "output_type": "execute_result",
          "data": {
            "text/html": [
              "<div>\n",
              "<style scoped>\n",
              "    .dataframe tbody tr th:only-of-type {\n",
              "        vertical-align: middle;\n",
              "    }\n",
              "\n",
              "    .dataframe tbody tr th {\n",
              "        vertical-align: top;\n",
              "    }\n",
              "\n",
              "    .dataframe thead th {\n",
              "        text-align: right;\n",
              "    }\n",
              "</style>\n",
              "<table border=\"1\" class=\"dataframe\">\n",
              "  <thead>\n",
              "    <tr style=\"text-align: right;\">\n",
              "      <th></th>\n",
              "      <th>Species</th>\n",
              "      <th>Weight</th>\n",
              "      <th>Length1</th>\n",
              "      <th>Length2</th>\n",
              "      <th>Length3</th>\n",
              "      <th>Height</th>\n",
              "      <th>Width</th>\n",
              "    </tr>\n",
              "  </thead>\n",
              "  <tbody>\n",
              "    <tr>\n",
              "      <th>0</th>\n",
              "      <td>Bream</td>\n",
              "      <td>242.0</td>\n",
              "      <td>23.2</td>\n",
              "      <td>25.4</td>\n",
              "      <td>30.0</td>\n",
              "      <td>11.5200</td>\n",
              "      <td>4.0200</td>\n",
              "    </tr>\n",
              "    <tr>\n",
              "      <th>1</th>\n",
              "      <td>Bream</td>\n",
              "      <td>290.0</td>\n",
              "      <td>24.0</td>\n",
              "      <td>26.3</td>\n",
              "      <td>31.2</td>\n",
              "      <td>12.4800</td>\n",
              "      <td>4.3056</td>\n",
              "    </tr>\n",
              "    <tr>\n",
              "      <th>2</th>\n",
              "      <td>Bream</td>\n",
              "      <td>340.0</td>\n",
              "      <td>23.9</td>\n",
              "      <td>26.5</td>\n",
              "      <td>31.1</td>\n",
              "      <td>12.3778</td>\n",
              "      <td>4.6961</td>\n",
              "    </tr>\n",
              "    <tr>\n",
              "      <th>3</th>\n",
              "      <td>Bream</td>\n",
              "      <td>363.0</td>\n",
              "      <td>26.3</td>\n",
              "      <td>29.0</td>\n",
              "      <td>33.5</td>\n",
              "      <td>12.7300</td>\n",
              "      <td>4.4555</td>\n",
              "    </tr>\n",
              "    <tr>\n",
              "      <th>4</th>\n",
              "      <td>Bream</td>\n",
              "      <td>430.0</td>\n",
              "      <td>26.5</td>\n",
              "      <td>29.0</td>\n",
              "      <td>34.0</td>\n",
              "      <td>12.4440</td>\n",
              "      <td>5.1340</td>\n",
              "    </tr>\n",
              "  </tbody>\n",
              "</table>\n",
              "</div>"
            ],
            "text/plain": [
              "  Species  Weight  Length1  Length2  Length3   Height   Width\n",
              "0   Bream   242.0     23.2     25.4     30.0  11.5200  4.0200\n",
              "1   Bream   290.0     24.0     26.3     31.2  12.4800  4.3056\n",
              "2   Bream   340.0     23.9     26.5     31.1  12.3778  4.6961\n",
              "3   Bream   363.0     26.3     29.0     33.5  12.7300  4.4555\n",
              "4   Bream   430.0     26.5     29.0     34.0  12.4440  5.1340"
            ]
          },
          "metadata": {
            "tags": []
          },
          "execution_count": 3
        }
      ]
    },
    {
      "cell_type": "code",
      "metadata": {
        "colab": {
          "base_uri": "https://localhost:8080/"
        },
        "id": "WHdpE6cb6RE_",
        "outputId": "5c13c9ad-c2aa-49b3-e4cf-4fde103e14f9"
      },
      "source": [
        "df.shape"
      ],
      "execution_count": null,
      "outputs": [
        {
          "output_type": "execute_result",
          "data": {
            "text/plain": [
              "(159, 7)"
            ]
          },
          "metadata": {
            "tags": []
          },
          "execution_count": 6
        }
      ]
    },
    {
      "cell_type": "code",
      "metadata": {
        "colab": {
          "base_uri": "https://localhost:8080/"
        },
        "id": "Z9lga9ds6Vip",
        "outputId": "c2dc6e02-55c2-4b00-fcc3-1ff9cb3754a3"
      },
      "source": [
        "df.info()"
      ],
      "execution_count": null,
      "outputs": [
        {
          "output_type": "stream",
          "text": [
            "<class 'pandas.core.frame.DataFrame'>\n",
            "RangeIndex: 159 entries, 0 to 158\n",
            "Data columns (total 7 columns):\n",
            " #   Column   Non-Null Count  Dtype  \n",
            "---  ------   --------------  -----  \n",
            " 0   Species  159 non-null    object \n",
            " 1   Weight   159 non-null    float64\n",
            " 2   Length1  159 non-null    float64\n",
            " 3   Length2  159 non-null    float64\n",
            " 4   Length3  159 non-null    float64\n",
            " 5   Height   159 non-null    float64\n",
            " 6   Width    159 non-null    float64\n",
            "dtypes: float64(6), object(1)\n",
            "memory usage: 8.8+ KB\n"
          ],
          "name": "stdout"
        }
      ]
    },
    {
      "cell_type": "code",
      "metadata": {
        "colab": {
          "base_uri": "https://localhost:8080/",
          "height": 295
        },
        "id": "e2hQQyVK6Zfi",
        "outputId": "9c8f46f0-a2a4-4d23-fce2-ce2c458087d0"
      },
      "source": [
        "df.describe()"
      ],
      "execution_count": null,
      "outputs": [
        {
          "output_type": "execute_result",
          "data": {
            "text/html": [
              "<div>\n",
              "<style scoped>\n",
              "    .dataframe tbody tr th:only-of-type {\n",
              "        vertical-align: middle;\n",
              "    }\n",
              "\n",
              "    .dataframe tbody tr th {\n",
              "        vertical-align: top;\n",
              "    }\n",
              "\n",
              "    .dataframe thead th {\n",
              "        text-align: right;\n",
              "    }\n",
              "</style>\n",
              "<table border=\"1\" class=\"dataframe\">\n",
              "  <thead>\n",
              "    <tr style=\"text-align: right;\">\n",
              "      <th></th>\n",
              "      <th>Weight</th>\n",
              "      <th>Length1</th>\n",
              "      <th>Length2</th>\n",
              "      <th>Length3</th>\n",
              "      <th>Height</th>\n",
              "      <th>Width</th>\n",
              "    </tr>\n",
              "  </thead>\n",
              "  <tbody>\n",
              "    <tr>\n",
              "      <th>count</th>\n",
              "      <td>159.000000</td>\n",
              "      <td>159.000000</td>\n",
              "      <td>159.000000</td>\n",
              "      <td>159.000000</td>\n",
              "      <td>159.000000</td>\n",
              "      <td>159.000000</td>\n",
              "    </tr>\n",
              "    <tr>\n",
              "      <th>mean</th>\n",
              "      <td>398.326415</td>\n",
              "      <td>26.247170</td>\n",
              "      <td>28.415723</td>\n",
              "      <td>31.227044</td>\n",
              "      <td>8.970994</td>\n",
              "      <td>4.417486</td>\n",
              "    </tr>\n",
              "    <tr>\n",
              "      <th>std</th>\n",
              "      <td>357.978317</td>\n",
              "      <td>9.996441</td>\n",
              "      <td>10.716328</td>\n",
              "      <td>11.610246</td>\n",
              "      <td>4.286208</td>\n",
              "      <td>1.685804</td>\n",
              "    </tr>\n",
              "    <tr>\n",
              "      <th>min</th>\n",
              "      <td>0.000000</td>\n",
              "      <td>7.500000</td>\n",
              "      <td>8.400000</td>\n",
              "      <td>8.800000</td>\n",
              "      <td>1.728400</td>\n",
              "      <td>1.047600</td>\n",
              "    </tr>\n",
              "    <tr>\n",
              "      <th>25%</th>\n",
              "      <td>120.000000</td>\n",
              "      <td>19.050000</td>\n",
              "      <td>21.000000</td>\n",
              "      <td>23.150000</td>\n",
              "      <td>5.944800</td>\n",
              "      <td>3.385650</td>\n",
              "    </tr>\n",
              "    <tr>\n",
              "      <th>50%</th>\n",
              "      <td>273.000000</td>\n",
              "      <td>25.200000</td>\n",
              "      <td>27.300000</td>\n",
              "      <td>29.400000</td>\n",
              "      <td>7.786000</td>\n",
              "      <td>4.248500</td>\n",
              "    </tr>\n",
              "    <tr>\n",
              "      <th>75%</th>\n",
              "      <td>650.000000</td>\n",
              "      <td>32.700000</td>\n",
              "      <td>35.500000</td>\n",
              "      <td>39.650000</td>\n",
              "      <td>12.365900</td>\n",
              "      <td>5.584500</td>\n",
              "    </tr>\n",
              "    <tr>\n",
              "      <th>max</th>\n",
              "      <td>1650.000000</td>\n",
              "      <td>59.000000</td>\n",
              "      <td>63.400000</td>\n",
              "      <td>68.000000</td>\n",
              "      <td>18.957000</td>\n",
              "      <td>8.142000</td>\n",
              "    </tr>\n",
              "  </tbody>\n",
              "</table>\n",
              "</div>"
            ],
            "text/plain": [
              "            Weight     Length1     Length2     Length3      Height       Width\n",
              "count   159.000000  159.000000  159.000000  159.000000  159.000000  159.000000\n",
              "mean    398.326415   26.247170   28.415723   31.227044    8.970994    4.417486\n",
              "std     357.978317    9.996441   10.716328   11.610246    4.286208    1.685804\n",
              "min       0.000000    7.500000    8.400000    8.800000    1.728400    1.047600\n",
              "25%     120.000000   19.050000   21.000000   23.150000    5.944800    3.385650\n",
              "50%     273.000000   25.200000   27.300000   29.400000    7.786000    4.248500\n",
              "75%     650.000000   32.700000   35.500000   39.650000   12.365900    5.584500\n",
              "max    1650.000000   59.000000   63.400000   68.000000   18.957000    8.142000"
            ]
          },
          "metadata": {
            "tags": []
          },
          "execution_count": 9
        }
      ]
    },
    {
      "cell_type": "code",
      "metadata": {
        "colab": {
          "base_uri": "https://localhost:8080/",
          "height": 203
        },
        "id": "M2W3Twug6dos",
        "outputId": "f0a3f9e6-134a-487a-b28a-b2b34aff0eff"
      },
      "source": [
        "features = df[['Height', 'Width']]\n",
        "features.head()"
      ],
      "execution_count": null,
      "outputs": [
        {
          "output_type": "execute_result",
          "data": {
            "text/html": [
              "<div>\n",
              "<style scoped>\n",
              "    .dataframe tbody tr th:only-of-type {\n",
              "        vertical-align: middle;\n",
              "    }\n",
              "\n",
              "    .dataframe tbody tr th {\n",
              "        vertical-align: top;\n",
              "    }\n",
              "\n",
              "    .dataframe thead th {\n",
              "        text-align: right;\n",
              "    }\n",
              "</style>\n",
              "<table border=\"1\" class=\"dataframe\">\n",
              "  <thead>\n",
              "    <tr style=\"text-align: right;\">\n",
              "      <th></th>\n",
              "      <th>Height</th>\n",
              "      <th>Width</th>\n",
              "    </tr>\n",
              "  </thead>\n",
              "  <tbody>\n",
              "    <tr>\n",
              "      <th>0</th>\n",
              "      <td>11.5200</td>\n",
              "      <td>4.0200</td>\n",
              "    </tr>\n",
              "    <tr>\n",
              "      <th>1</th>\n",
              "      <td>12.4800</td>\n",
              "      <td>4.3056</td>\n",
              "    </tr>\n",
              "    <tr>\n",
              "      <th>2</th>\n",
              "      <td>12.3778</td>\n",
              "      <td>4.6961</td>\n",
              "    </tr>\n",
              "    <tr>\n",
              "      <th>3</th>\n",
              "      <td>12.7300</td>\n",
              "      <td>4.4555</td>\n",
              "    </tr>\n",
              "    <tr>\n",
              "      <th>4</th>\n",
              "      <td>12.4440</td>\n",
              "      <td>5.1340</td>\n",
              "    </tr>\n",
              "  </tbody>\n",
              "</table>\n",
              "</div>"
            ],
            "text/plain": [
              "    Height   Width\n",
              "0  11.5200  4.0200\n",
              "1  12.4800  4.3056\n",
              "2  12.3778  4.6961\n",
              "3  12.7300  4.4555\n",
              "4  12.4440  5.1340"
            ]
          },
          "metadata": {
            "tags": []
          },
          "execution_count": 10
        }
      ]
    },
    {
      "cell_type": "code",
      "metadata": {
        "colab": {
          "base_uri": "https://localhost:8080/",
          "height": 203
        },
        "id": "1FN9ybDU6fqO",
        "outputId": "a59edfa1-4274-4e16-82f3-85c146550c72"
      },
      "source": [
        "labels = df[['Weight']]\n",
        "labels.head()"
      ],
      "execution_count": null,
      "outputs": [
        {
          "output_type": "execute_result",
          "data": {
            "text/html": [
              "<div>\n",
              "<style scoped>\n",
              "    .dataframe tbody tr th:only-of-type {\n",
              "        vertical-align: middle;\n",
              "    }\n",
              "\n",
              "    .dataframe tbody tr th {\n",
              "        vertical-align: top;\n",
              "    }\n",
              "\n",
              "    .dataframe thead th {\n",
              "        text-align: right;\n",
              "    }\n",
              "</style>\n",
              "<table border=\"1\" class=\"dataframe\">\n",
              "  <thead>\n",
              "    <tr style=\"text-align: right;\">\n",
              "      <th></th>\n",
              "      <th>Weight</th>\n",
              "    </tr>\n",
              "  </thead>\n",
              "  <tbody>\n",
              "    <tr>\n",
              "      <th>0</th>\n",
              "      <td>242.0</td>\n",
              "    </tr>\n",
              "    <tr>\n",
              "      <th>1</th>\n",
              "      <td>290.0</td>\n",
              "    </tr>\n",
              "    <tr>\n",
              "      <th>2</th>\n",
              "      <td>340.0</td>\n",
              "    </tr>\n",
              "    <tr>\n",
              "      <th>3</th>\n",
              "      <td>363.0</td>\n",
              "    </tr>\n",
              "    <tr>\n",
              "      <th>4</th>\n",
              "      <td>430.0</td>\n",
              "    </tr>\n",
              "  </tbody>\n",
              "</table>\n",
              "</div>"
            ],
            "text/plain": [
              "   Weight\n",
              "0   242.0\n",
              "1   290.0\n",
              "2   340.0\n",
              "3   363.0\n",
              "4   430.0"
            ]
          },
          "metadata": {
            "tags": []
          },
          "execution_count": 12
        }
      ]
    },
    {
      "cell_type": "code",
      "metadata": {
        "id": "6qqPca2w6irW"
      },
      "source": [
        "from sklearn.model_selection import train_test_split\n",
        "# it will return four variables, X_train, X_test, y_train, y_test\n",
        "X_train, X_test, y_train, y_test = train_test_split(features, labels, test_size=0.15)"
      ],
      "execution_count": null,
      "outputs": []
    },
    {
      "cell_type": "code",
      "metadata": {
        "colab": {
          "base_uri": "https://localhost:8080/"
        },
        "id": "oOnSeeHc6m4j",
        "outputId": "c076372b-b7eb-41d7-9a86-819e221a8236"
      },
      "source": [
        "X_train.shape, X_test.shape"
      ],
      "execution_count": null,
      "outputs": [
        {
          "output_type": "execute_result",
          "data": {
            "text/plain": [
              "((135, 2), (24, 2))"
            ]
          },
          "metadata": {
            "tags": []
          },
          "execution_count": 14
        }
      ]
    },
    {
      "cell_type": "code",
      "metadata": {
        "colab": {
          "base_uri": "https://localhost:8080/"
        },
        "id": "8oXcfqvK6pFS",
        "outputId": "0addaf38-0165-4857-8db6-13de696ccb3a"
      },
      "source": [
        "y_train.shape, y_test.shape"
      ],
      "execution_count": null,
      "outputs": [
        {
          "output_type": "execute_result",
          "data": {
            "text/plain": [
              "((135, 1), (24, 1))"
            ]
          },
          "metadata": {
            "tags": []
          },
          "execution_count": 15
        }
      ]
    },
    {
      "cell_type": "code",
      "metadata": {
        "id": "bXBnKwOW6q1C"
      },
      "source": [
        "from sklearn import linear_model"
      ],
      "execution_count": null,
      "outputs": []
    },
    {
      "cell_type": "code",
      "metadata": {
        "id": "D7F3ib6W6s4y"
      },
      "source": [
        "model = linear_model.LinearRegression()"
      ],
      "execution_count": null,
      "outputs": []
    },
    {
      "cell_type": "code",
      "metadata": {
        "colab": {
          "base_uri": "https://localhost:8080/"
        },
        "id": "ThfhW17C6u89",
        "outputId": "fd679443-7d3d-40b3-b8f5-b79f2b6f6c01"
      },
      "source": [
        "model.fit(X_train, y_train)"
      ],
      "execution_count": null,
      "outputs": [
        {
          "output_type": "execute_result",
          "data": {
            "text/plain": [
              "LinearRegression(copy_X=True, fit_intercept=True, n_jobs=None, normalize=False)"
            ]
          },
          "metadata": {
            "tags": []
          },
          "execution_count": 18
        }
      ]
    },
    {
      "cell_type": "code",
      "metadata": {
        "id": "hiBqDMbT6wRC"
      },
      "source": [
        "from sklearn.metrics import r2_score"
      ],
      "execution_count": null,
      "outputs": []
    },
    {
      "cell_type": "code",
      "metadata": {
        "id": "ZB-XUPVS6xru"
      },
      "source": [
        "predictions = model.predict(X_train)"
      ],
      "execution_count": null,
      "outputs": []
    },
    {
      "cell_type": "code",
      "metadata": {
        "colab": {
          "base_uri": "https://localhost:8080/"
        },
        "id": "eWOpJyCM6zrc",
        "outputId": "e54b7ede-7258-444f-8eee-945ffec20be6"
      },
      "source": [
        "r2 = r2_score(y_train, predictions)\n",
        "print(\"R2 Score :\", r2)"
      ],
      "execution_count": null,
      "outputs": [
        {
          "output_type": "stream",
          "text": [
            "R2 Score : 0.8093614666928417\n"
          ],
          "name": "stdout"
        }
      ]
    },
    {
      "cell_type": "code",
      "metadata": {
        "colab": {
          "base_uri": "https://localhost:8080/"
        },
        "id": "dQeyl9Yf61XQ",
        "outputId": "3dee13c6-f024-4661-8760-c713ec7d8d6a"
      },
      "source": [
        "predictions = model.predict(X_test)\n",
        "\n",
        "r2 = r2_score(y_test, predictions)\n",
        "print(\"R2 Score :\", r2)"
      ],
      "execution_count": null,
      "outputs": [
        {
          "output_type": "stream",
          "text": [
            "R2 Score : 0.6918582725008133\n"
          ],
          "name": "stdout"
        }
      ]
    },
    {
      "cell_type": "code",
      "metadata": {
        "id": "Fu1T76MF63Pj"
      },
      "source": [
        "from sklearn.cluster import AgglomerativeClustering\n",
        "import matplotlib.pyplot as plt"
      ],
      "execution_count": null,
      "outputs": []
    },
    {
      "cell_type": "code",
      "metadata": {
        "id": "u_oBRxel64pp"
      },
      "source": [
        "x=df.iloc[:,[3,4]].values"
      ],
      "execution_count": null,
      "outputs": []
    },
    {
      "cell_type": "code",
      "metadata": {
        "colab": {
          "base_uri": "https://localhost:8080/"
        },
        "id": "1xx6TS9866Po",
        "outputId": "8b123a04-4c6f-4215-a728-2277636dbaae"
      },
      "source": [
        "x"
      ],
      "execution_count": null,
      "outputs": [
        {
          "output_type": "execute_result",
          "data": {
            "text/plain": [
              "array([[25.4, 30. ],\n",
              "       [26.3, 31.2],\n",
              "       [26.5, 31.1],\n",
              "       [29. , 33.5],\n",
              "       [29. , 34. ],\n",
              "       [29.7, 34.7],\n",
              "       [29.7, 34.5],\n",
              "       [30. , 35. ],\n",
              "       [30. , 35.1],\n",
              "       [30.7, 36.2],\n",
              "       [31. , 36.2],\n",
              "       [31. , 36.2],\n",
              "       [31.5, 36.4],\n",
              "       [32. , 37.3],\n",
              "       [32. , 37.2],\n",
              "       [32. , 37.2],\n",
              "       [33. , 38.3],\n",
              "       [33. , 38.5],\n",
              "       [33.5, 38.6],\n",
              "       [33.5, 38.7],\n",
              "       [34. , 39.5],\n",
              "       [34. , 39.2],\n",
              "       [34.5, 39.7],\n",
              "       [35. , 40.6],\n",
              "       [35. , 40.5],\n",
              "       [35. , 40.9],\n",
              "       [35. , 40.6],\n",
              "       [36. , 41.5],\n",
              "       [36. , 41.6],\n",
              "       [37. , 42.6],\n",
              "       [38.5, 44.1],\n",
              "       [38.5, 44. ],\n",
              "       [39.5, 45.3],\n",
              "       [41. , 45.9],\n",
              "       [41. , 46.5],\n",
              "       [14.1, 16.2],\n",
              "       [18.2, 20.3],\n",
              "       [18.8, 21.2],\n",
              "       [19.8, 22.2],\n",
              "       [20. , 22.2],\n",
              "       [20.5, 22.8],\n",
              "       [20.8, 23.1],\n",
              "       [21. , 23.7],\n",
              "       [22. , 24.7],\n",
              "       [22. , 24.3],\n",
              "       [22.5, 25.3],\n",
              "       [22.5, 25. ],\n",
              "       [22.5, 25. ],\n",
              "       [24. , 27.2],\n",
              "       [23.4, 26.7],\n",
              "       [23.5, 26.8],\n",
              "       [25.2, 27.9],\n",
              "       [26. , 29.2],\n",
              "       [27. , 30.6],\n",
              "       [31.7, 35. ],\n",
              "       [26. , 28.7],\n",
              "       [26.5, 29.3],\n",
              "       [28. , 30.8],\n",
              "       [31. , 34. ],\n",
              "       [36.4, 39.6],\n",
              "       [40. , 43.5],\n",
              "       [14.7, 16.5],\n",
              "       [15.5, 17.4],\n",
              "       [17.7, 19.8],\n",
              "       [19. , 21.3],\n",
              "       [20. , 22.4],\n",
              "       [20.7, 23.2],\n",
              "       [20.7, 23.2],\n",
              "       [21.5, 24.1],\n",
              "       [23. , 25.8],\n",
              "       [25. , 28. ],\n",
              "       [26. , 29. ],\n",
              "       [ 8.4,  8.8],\n",
              "       [13.7, 14.7],\n",
              "       [15. , 16. ],\n",
              "       [16.2, 17.2],\n",
              "       [17.4, 18.5],\n",
              "       [18. , 19.2],\n",
              "       [18.7, 19.4],\n",
              "       [19. , 20.2],\n",
              "       [19.6, 20.8],\n",
              "       [20. , 21. ],\n",
              "       [21. , 22.5],\n",
              "       [21. , 22.5],\n",
              "       [21. , 22.5],\n",
              "       [21.3, 22.8],\n",
              "       [22. , 23.5],\n",
              "       [22. , 23.5],\n",
              "       [22. , 23.5],\n",
              "       [22. , 23.5],\n",
              "       [22. , 23.5],\n",
              "       [22.5, 24. ],\n",
              "       [22.5, 24. ],\n",
              "       [22.7, 24.2],\n",
              "       [23. , 24.5],\n",
              "       [23.5, 25. ],\n",
              "       [24. , 25.5],\n",
              "       [24. , 25.5],\n",
              "       [24.6, 26.2],\n",
              "       [25. , 26.5],\n",
              "       [25.6, 27. ],\n",
              "       [26.5, 28. ],\n",
              "       [27.3, 28.7],\n",
              "       [27.5, 28.9],\n",
              "       [27.5, 28.9],\n",
              "       [27.5, 28.9],\n",
              "       [28. , 29.4],\n",
              "       [28.7, 30.1],\n",
              "       [30. , 31.6],\n",
              "       [32.8, 34. ],\n",
              "       [34.5, 36.5],\n",
              "       [35. , 37.3],\n",
              "       [36.5, 39. ],\n",
              "       [36. , 38.3],\n",
              "       [37. , 39.4],\n",
              "       [37. , 39.3],\n",
              "       [39. , 41.4],\n",
              "       [39. , 41.4],\n",
              "       [39. , 41.3],\n",
              "       [40. , 42.3],\n",
              "       [40. , 42.5],\n",
              "       [40. , 42.4],\n",
              "       [40. , 42.5],\n",
              "       [42. , 44.6],\n",
              "       [43. , 45.2],\n",
              "       [43. , 45.5],\n",
              "       [43.5, 46. ],\n",
              "       [44. , 46.6],\n",
              "       [32.3, 34.8],\n",
              "       [34. , 37.8],\n",
              "       [35. , 38.8],\n",
              "       [37.3, 39.8],\n",
              "       [38. , 40.5],\n",
              "       [38.5, 41. ],\n",
              "       [42.5, 45.5],\n",
              "       [42.5, 45.5],\n",
              "       [43. , 45.8],\n",
              "       [45. , 48. ],\n",
              "       [46. , 48.7],\n",
              "       [48. , 51.2],\n",
              "       [51.7, 55.1],\n",
              "       [56. , 59.7],\n",
              "       [60. , 64. ],\n",
              "       [60. , 64. ],\n",
              "       [63.4, 68. ],\n",
              "       [ 9.8, 10.8],\n",
              "       [10.5, 11.6],\n",
              "       [10.6, 11.6],\n",
              "       [11. , 12. ],\n",
              "       [11.2, 12.4],\n",
              "       [11.3, 12.6],\n",
              "       [11.8, 13.1],\n",
              "       [11.8, 13.1],\n",
              "       [12. , 13.2],\n",
              "       [12.2, 13.4],\n",
              "       [12.4, 13.5],\n",
              "       [13. , 13.8],\n",
              "       [14.3, 15.2],\n",
              "       [15. , 16.2]])"
            ]
          },
          "metadata": {
            "tags": []
          },
          "execution_count": 25
        }
      ]
    },
    {
      "cell_type": "code",
      "metadata": {
        "id": "OWakRc40665D"
      },
      "source": [
        "hc = AgglomerativeClustering(n_clusters= 5 , affinity= 'euclidean', linkage='ward')"
      ],
      "execution_count": null,
      "outputs": []
    },
    {
      "cell_type": "code",
      "metadata": {
        "id": "VaxJJOPE692z"
      },
      "source": [
        "y_hc = hc.fit_predict(x)"
      ],
      "execution_count": null,
      "outputs": []
    },
    {
      "cell_type": "code",
      "metadata": {
        "colab": {
          "base_uri": "https://localhost:8080/",
          "height": 50
        },
        "id": "bnzDkYpb6_fo",
        "outputId": "31be94e7-e466-4482-dfac-9ce1a5280759"
      },
      "source": [
        "# visualizing cluster\n",
        "\n",
        "plt.figure(figsize =(6,6))"
      ],
      "execution_count": null,
      "outputs": [
        {
          "output_type": "execute_result",
          "data": {
            "text/plain": [
              "<Figure size 432x432 with 0 Axes>"
            ]
          },
          "metadata": {
            "tags": []
          },
          "execution_count": 28
        },
        {
          "output_type": "display_data",
          "data": {
            "text/plain": [
              "<Figure size 432x432 with 0 Axes>"
            ]
          },
          "metadata": {
            "tags": []
          }
        }
      ]
    },
    {
      "cell_type": "code",
      "metadata": {
        "colab": {
          "base_uri": "https://localhost:8080/",
          "height": 282
        },
        "id": "nN2P37Dw7BON",
        "outputId": "793cc743-fd63-4ad4-ca5c-d4d36ad5520f"
      },
      "source": [
        "plt.scatter(x[y_hc==0,0],x[y_hc==0,1],s=100,c='red',label='Length1')"
      ],
      "execution_count": null,
      "outputs": [
        {
          "output_type": "execute_result",
          "data": {
            "text/plain": [
              "<matplotlib.collections.PathCollection at 0x7efc823e2710>"
            ]
          },
          "metadata": {
            "tags": []
          },
          "execution_count": 29
        },
        {
          "output_type": "display_data",
          "data": {
            "image/png": "[encoded data removed]",
            "text/plain": [
              "<Figure size 432x288 with 1 Axes>"
            ]
          },
          "metadata": {
            "tags": [],
            "needs_background": "light"
          }
        }
      ]
    },
    {
      "cell_type": "code",
      "metadata": {
        "colab": {
          "base_uri": "https://localhost:8080/",
          "height": 285
        },
        "id": "DGJiMHL97CyB",
        "outputId": "d68308e1-8ef3-464f-f80e-3723239f1bb2"
      },
      "source": [
        "plt.scatter(x[y_hc==1,0],x[y_hc==1,1],s=100,c='blue',label='Length2')"
      ],
      "execution_count": null,
      "outputs": [
        {
          "output_type": "execute_result",
          "data": {
            "text/plain": [
              "<matplotlib.collections.PathCollection at 0x7efc81ebae50>"
            ]
          },
          "metadata": {
            "tags": []
          },
          "execution_count": 31
        },
        {
          "output_type": "display_data",
          "data": {
            "image/png": "[encoded data removed]",
            "text/plain": [
              "<Figure size 432x288 with 1 Axes>"
            ]
          },
          "metadata": {
            "tags": [],
            "needs_background": "light"
          }
        }
      ]
    },
    {
      "cell_type": "code",
      "metadata": {
        "colab": {
          "base_uri": "https://localhost:8080/",
          "height": 282
        },
        "id": "EvYP4Il77E11",
        "outputId": "34c1d190-1165-4150-fd99-506f07f53468"
      },
      "source": [
        "plt.scatter(x[y_hc==2,0],x[y_hc==2,1],s=100,c='green',label='Length3')"
      ],
      "execution_count": null,
      "outputs": [
        {
          "output_type": "execute_result",
          "data": {
            "text/plain": [
              "<matplotlib.collections.PathCollection at 0x7efc81e32a50>"
            ]
          },
          "metadata": {
            "tags": []
          },
          "execution_count": 32
        },
        {
          "output_type": "display_data",
          "data": {
            "image/png": "[encoded data removed]",
            "text/plain": [
              "<Figure size 432x288 with 1 Axes>"
            ]
          },
          "metadata": {
            "tags": [],
            "needs_background": "light"
          }
        }
      ]
    },
    {
      "cell_type": "code",
      "metadata": {
        "colab": {
          "base_uri": "https://localhost:8080/",
          "height": 285
        },
        "id": "EkEGWQO-7IXp",
        "outputId": "8da18760-fccf-45f8-d187-36eb0b74b228"
      },
      "source": [
        "plt.scatter(x[y_hc==0,0],x[y_hc==0,1],s=100,c='red',label='Length1')\n",
        "plt.scatter(x[y_hc==1,0],x[y_hc==1,1],s=100,c='blue',label='Length2')\n",
        "plt.scatter(x[y_hc==2,0],x[y_hc==2,1],s=100,c='green',label='Length3')"
      ],
      "execution_count": null,
      "outputs": [
        {
          "output_type": "execute_result",
          "data": {
            "text/plain": [
              "<matplotlib.collections.PathCollection at 0x7efc81e27f90>"
            ]
          },
          "metadata": {
            "tags": []
          },
          "execution_count": 33
        },
        {
          "output_type": "display_data",
          "data": {
            "image/png": "[encoded data removed]",
            "text/plain": [
              "<Figure size 432x288 with 1 Axes>"
            ]
          },
          "metadata": {
            "tags": [],
            "needs_background": "light"
          }
        }
      ]
    },
    {
      "cell_type": "code",
      "metadata": {
        "id": "aru8y2Ck7Km9"
      },
      "source": [
        ""
      ],
      "execution_count": null,
      "outputs": []
    },
    {
      "cell_type": "code",
      "metadata": {
        "id": "zUJc9k7r7OGK"
      },
      "source": [
        ""
      ],
      "execution_count": null,
      "outputs": []
    }
  ]
}