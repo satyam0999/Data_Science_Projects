{
  "nbformat": 4,
  "nbformat_minor": 0,
  "metadata": {
    "colab": {
      "name": "DATA_SCIENCE_PROJECT_GPU.ipynb",
      "provenance": [],
      "collapsed_sections": [],
      "include_colab_link": true
    },
    "kernelspec": {
      "name": "python3",
      "display_name": "Python 3"
    },
    "language_info": {
      "name": "python"
    }
  },
  "cells": [
    {
      "cell_type": "markdown",
      "metadata": {
        "id": "view-in-github",
        "colab_type": "text"
      },
      "source": [
        "<a href=\"https://colab.research.google.com/github/satyam0999/Data_Science_Projects/blob/main/Projects/GPU%20Kernel%20Performance/DATA_SCIENCE_PROJECT_GPU.ipynb\" target=\"_parent\"><img src=\"https://colab.research.google.com/assets/colab-badge.svg\" alt=\"Open In Colab\"/></a>"
      ]
    },
    {
      "cell_type": "code",
      "metadata": {
        "id": "v7tEnOkldkfz"
      },
      "source": [
        "import pandas as pd \n",
        "import numpy as np"
      ],
      "execution_count": null,
      "outputs": []
    },
    {
      "cell_type": "code",
      "metadata": {
        "id": "gm6WE-TqiGRZ"
      },
      "source": [
        "df = pd.read_csv('sgemm_product.csv')"
      ],
      "execution_count": null,
      "outputs": []
    },
    {
      "cell_type": "code",
      "metadata": {
        "colab": {
          "base_uri": "https://localhost:8080/",
          "height": 204
        },
        "id": "U9jgJskYkx5W",
        "outputId": "71202056-7f56-434f-9610-07f6e0e94b29"
      },
      "source": [
        "df.head()"
      ],
      "execution_count": null,
      "outputs": [
        {
          "output_type": "execute_result",
          "data": {
            "text/html": [
              "<div>\n",
              "<style scoped>\n",
              "    .dataframe tbody tr th:only-of-type {\n",
              "        vertical-align: middle;\n",
              "    }\n",
              "\n",
              "    .dataframe tbody tr th {\n",
              "        vertical-align: top;\n",
              "    }\n",
              "\n",
              "    .dataframe thead th {\n",
              "        text-align: right;\n",
              "    }\n",
              "</style>\n",
              "<table border=\"1\" class=\"dataframe\">\n",
              "  <thead>\n",
              "    <tr style=\"text-align: right;\">\n",
              "      <th></th>\n",
              "      <th>MWG</th>\n",
              "      <th>NWG</th>\n",
              "      <th>KWG</th>\n",
              "      <th>MDIMC</th>\n",
              "      <th>NDIMC</th>\n",
              "      <th>MDIMA</th>\n",
              "      <th>NDIMB</th>\n",
              "      <th>KWI</th>\n",
              "      <th>VWM</th>\n",
              "      <th>VWN</th>\n",
              "      <th>STRM</th>\n",
              "      <th>STRN</th>\n",
              "      <th>SA</th>\n",
              "      <th>SB</th>\n",
              "      <th>Run1 (ms)</th>\n",
              "      <th>Run2 (ms)</th>\n",
              "      <th>Run3 (ms)</th>\n",
              "      <th>Run4 (ms)</th>\n",
              "    </tr>\n",
              "  </thead>\n",
              "  <tbody>\n",
              "    <tr>\n",
              "      <th>0</th>\n",
              "      <td>16</td>\n",
              "      <td>16</td>\n",
              "      <td>16</td>\n",
              "      <td>8</td>\n",
              "      <td>8</td>\n",
              "      <td>8</td>\n",
              "      <td>8</td>\n",
              "      <td>2</td>\n",
              "      <td>1</td>\n",
              "      <td>1</td>\n",
              "      <td>0</td>\n",
              "      <td>0</td>\n",
              "      <td>0</td>\n",
              "      <td>0</td>\n",
              "      <td>115.26</td>\n",
              "      <td>115.87</td>\n",
              "      <td>118.55</td>\n",
              "      <td>115.80</td>\n",
              "    </tr>\n",
              "    <tr>\n",
              "      <th>1</th>\n",
              "      <td>16</td>\n",
              "      <td>16</td>\n",
              "      <td>16</td>\n",
              "      <td>8</td>\n",
              "      <td>8</td>\n",
              "      <td>8</td>\n",
              "      <td>8</td>\n",
              "      <td>2</td>\n",
              "      <td>1</td>\n",
              "      <td>1</td>\n",
              "      <td>0</td>\n",
              "      <td>0</td>\n",
              "      <td>0</td>\n",
              "      <td>1</td>\n",
              "      <td>78.13</td>\n",
              "      <td>78.25</td>\n",
              "      <td>79.25</td>\n",
              "      <td>79.19</td>\n",
              "    </tr>\n",
              "    <tr>\n",
              "      <th>2</th>\n",
              "      <td>16</td>\n",
              "      <td>16</td>\n",
              "      <td>16</td>\n",
              "      <td>8</td>\n",
              "      <td>8</td>\n",
              "      <td>8</td>\n",
              "      <td>8</td>\n",
              "      <td>2</td>\n",
              "      <td>1</td>\n",
              "      <td>1</td>\n",
              "      <td>0</td>\n",
              "      <td>0</td>\n",
              "      <td>1</td>\n",
              "      <td>0</td>\n",
              "      <td>79.84</td>\n",
              "      <td>80.69</td>\n",
              "      <td>80.76</td>\n",
              "      <td>80.97</td>\n",
              "    </tr>\n",
              "    <tr>\n",
              "      <th>3</th>\n",
              "      <td>16</td>\n",
              "      <td>16</td>\n",
              "      <td>16</td>\n",
              "      <td>8</td>\n",
              "      <td>8</td>\n",
              "      <td>8</td>\n",
              "      <td>8</td>\n",
              "      <td>2</td>\n",
              "      <td>1</td>\n",
              "      <td>1</td>\n",
              "      <td>0</td>\n",
              "      <td>0</td>\n",
              "      <td>1</td>\n",
              "      <td>1</td>\n",
              "      <td>84.32</td>\n",
              "      <td>89.90</td>\n",
              "      <td>86.75</td>\n",
              "      <td>85.58</td>\n",
              "    </tr>\n",
              "    <tr>\n",
              "      <th>4</th>\n",
              "      <td>16</td>\n",
              "      <td>16</td>\n",
              "      <td>16</td>\n",
              "      <td>8</td>\n",
              "      <td>8</td>\n",
              "      <td>8</td>\n",
              "      <td>8</td>\n",
              "      <td>2</td>\n",
              "      <td>1</td>\n",
              "      <td>1</td>\n",
              "      <td>0</td>\n",
              "      <td>1</td>\n",
              "      <td>0</td>\n",
              "      <td>0</td>\n",
              "      <td>115.13</td>\n",
              "      <td>121.98</td>\n",
              "      <td>122.73</td>\n",
              "      <td>114.81</td>\n",
              "    </tr>\n",
              "  </tbody>\n",
              "</table>\n",
              "</div>"
            ],
            "text/plain": [
              "   MWG  NWG  KWG  MDIMC  NDIMC  ...  SB  Run1 (ms)  Run2 (ms)  Run3 (ms)  Run4 (ms)\n",
              "0   16   16   16      8      8  ...   0     115.26     115.87     118.55     115.80\n",
              "1   16   16   16      8      8  ...   1      78.13      78.25      79.25      79.19\n",
              "2   16   16   16      8      8  ...   0      79.84      80.69      80.76      80.97\n",
              "3   16   16   16      8      8  ...   1      84.32      89.90      86.75      85.58\n",
              "4   16   16   16      8      8  ...   0     115.13     121.98     122.73     114.81\n",
              "\n",
              "[5 rows x 18 columns]"
            ]
          },
          "metadata": {
            "tags": []
          },
          "execution_count": 170
        }
      ]
    },
    {
      "cell_type": "code",
      "metadata": {
        "colab": {
          "base_uri": "https://localhost:8080/"
        },
        "id": "kLosjE60kzwI",
        "outputId": "a6f34b83-fee0-4d8b-e5a3-6e0e892ab27c"
      },
      "source": [
        "df.info()"
      ],
      "execution_count": null,
      "outputs": [
        {
          "output_type": "stream",
          "text": [
            "<class 'pandas.core.frame.DataFrame'>\n",
            "RangeIndex: 241600 entries, 0 to 241599\n",
            "Data columns (total 18 columns):\n",
            " #   Column     Non-Null Count   Dtype  \n",
            "---  ------     --------------   -----  \n",
            " 0   MWG        241600 non-null  int64  \n",
            " 1   NWG        241600 non-null  int64  \n",
            " 2   KWG        241600 non-null  int64  \n",
            " 3   MDIMC      241600 non-null  int64  \n",
            " 4   NDIMC      241600 non-null  int64  \n",
            " 5   MDIMA      241600 non-null  int64  \n",
            " 6   NDIMB      241600 non-null  int64  \n",
            " 7   KWI        241600 non-null  int64  \n",
            " 8   VWM        241600 non-null  int64  \n",
            " 9   VWN        241600 non-null  int64  \n",
            " 10  STRM       241600 non-null  int64  \n",
            " 11  STRN       241600 non-null  int64  \n",
            " 12  SA         241600 non-null  int64  \n",
            " 13  SB         241600 non-null  int64  \n",
            " 14  Run1 (ms)  241600 non-null  float64\n",
            " 15  Run2 (ms)  241600 non-null  float64\n",
            " 16  Run3 (ms)  241600 non-null  float64\n",
            " 17  Run4 (ms)  241600 non-null  float64\n",
            "dtypes: float64(4), int64(14)\n",
            "memory usage: 33.2 MB\n"
          ],
          "name": "stdout"
        }
      ]
    },
    {
      "cell_type": "code",
      "metadata": {
        "colab": {
          "base_uri": "https://localhost:8080/"
        },
        "id": "7X-waXbLk9Gf",
        "outputId": "af9d889d-d8f6-4a9c-f749-05171bfaaf28"
      },
      "source": [
        "df.isnull().sum()"
      ],
      "execution_count": null,
      "outputs": [
        {
          "output_type": "execute_result",
          "data": {
            "text/plain": [
              "MWG          0\n",
              "NWG          0\n",
              "KWG          0\n",
              "MDIMC        0\n",
              "NDIMC        0\n",
              "MDIMA        0\n",
              "NDIMB        0\n",
              "KWI          0\n",
              "VWM          0\n",
              "VWN          0\n",
              "STRM         0\n",
              "STRN         0\n",
              "SA           0\n",
              "SB           0\n",
              "Run1 (ms)    0\n",
              "Run2 (ms)    0\n",
              "Run3 (ms)    0\n",
              "Run4 (ms)    0\n",
              "dtype: int64"
            ]
          },
          "metadata": {
            "tags": []
          },
          "execution_count": 172
        }
      ]
    },
    {
      "cell_type": "code",
      "metadata": {
        "colab": {
          "base_uri": "https://localhost:8080/"
        },
        "id": "YG2DShe8l-Dv",
        "outputId": "78f46f3b-450e-4f04-b6bb-7b4598eb1eb1"
      },
      "source": [
        "df.shape"
      ],
      "execution_count": null,
      "outputs": [
        {
          "output_type": "execute_result",
          "data": {
            "text/plain": [
              "(241600, 18)"
            ]
          },
          "metadata": {
            "tags": []
          },
          "execution_count": 13
        }
      ]
    },
    {
      "cell_type": "code",
      "metadata": {
        "id": "GvFIp0dFmC_n"
      },
      "source": [
        "df['Run']=df[['Run1 (ms)','Run2 (ms)','Run3 (ms)','Run4 (ms)']].mean(axis=1)\n",
        "\n",
        "#df['Run']=df[['Run1 (ms)','Run2 (ms)','Run3 (ms)','Run4 (ms)']].median(axis=1)"
      ],
      "execution_count": null,
      "outputs": []
    },
    {
      "cell_type": "code",
      "metadata": {
        "id": "8G_sK2qhmcIl"
      },
      "source": [
        "df = df.drop(columns =['Run1 (ms)','Run2 (ms)','Run3 (ms)','Run4 (ms)'], axis = 1)"
      ],
      "execution_count": null,
      "outputs": []
    },
    {
      "cell_type": "code",
      "metadata": {
        "colab": {
          "base_uri": "https://localhost:8080/",
          "height": 204
        },
        "id": "v9NjjLp5mtKL",
        "outputId": "f4151b61-9e12-4e6f-8f84-5b63ccfdf4e3"
      },
      "source": [
        "df.head()"
      ],
      "execution_count": null,
      "outputs": [
        {
          "output_type": "execute_result",
          "data": {
            "text/html": [
              "<div>\n",
              "<style scoped>\n",
              "    .dataframe tbody tr th:only-of-type {\n",
              "        vertical-align: middle;\n",
              "    }\n",
              "\n",
              "    .dataframe tbody tr th {\n",
              "        vertical-align: top;\n",
              "    }\n",
              "\n",
              "    .dataframe thead th {\n",
              "        text-align: right;\n",
              "    }\n",
              "</style>\n",
              "<table border=\"1\" class=\"dataframe\">\n",
              "  <thead>\n",
              "    <tr style=\"text-align: right;\">\n",
              "      <th></th>\n",
              "      <th>MWG</th>\n",
              "      <th>NWG</th>\n",
              "      <th>KWG</th>\n",
              "      <th>MDIMC</th>\n",
              "      <th>NDIMC</th>\n",
              "      <th>MDIMA</th>\n",
              "      <th>NDIMB</th>\n",
              "      <th>KWI</th>\n",
              "      <th>VWM</th>\n",
              "      <th>VWN</th>\n",
              "      <th>STRM</th>\n",
              "      <th>STRN</th>\n",
              "      <th>SA</th>\n",
              "      <th>SB</th>\n",
              "      <th>Run</th>\n",
              "    </tr>\n",
              "  </thead>\n",
              "  <tbody>\n",
              "    <tr>\n",
              "      <th>0</th>\n",
              "      <td>16</td>\n",
              "      <td>16</td>\n",
              "      <td>16</td>\n",
              "      <td>8</td>\n",
              "      <td>8</td>\n",
              "      <td>8</td>\n",
              "      <td>8</td>\n",
              "      <td>2</td>\n",
              "      <td>1</td>\n",
              "      <td>1</td>\n",
              "      <td>0</td>\n",
              "      <td>0</td>\n",
              "      <td>0</td>\n",
              "      <td>0</td>\n",
              "      <td>116.3700</td>\n",
              "    </tr>\n",
              "    <tr>\n",
              "      <th>1</th>\n",
              "      <td>16</td>\n",
              "      <td>16</td>\n",
              "      <td>16</td>\n",
              "      <td>8</td>\n",
              "      <td>8</td>\n",
              "      <td>8</td>\n",
              "      <td>8</td>\n",
              "      <td>2</td>\n",
              "      <td>1</td>\n",
              "      <td>1</td>\n",
              "      <td>0</td>\n",
              "      <td>0</td>\n",
              "      <td>0</td>\n",
              "      <td>1</td>\n",
              "      <td>78.7050</td>\n",
              "    </tr>\n",
              "    <tr>\n",
              "      <th>2</th>\n",
              "      <td>16</td>\n",
              "      <td>16</td>\n",
              "      <td>16</td>\n",
              "      <td>8</td>\n",
              "      <td>8</td>\n",
              "      <td>8</td>\n",
              "      <td>8</td>\n",
              "      <td>2</td>\n",
              "      <td>1</td>\n",
              "      <td>1</td>\n",
              "      <td>0</td>\n",
              "      <td>0</td>\n",
              "      <td>1</td>\n",
              "      <td>0</td>\n",
              "      <td>80.5650</td>\n",
              "    </tr>\n",
              "    <tr>\n",
              "      <th>3</th>\n",
              "      <td>16</td>\n",
              "      <td>16</td>\n",
              "      <td>16</td>\n",
              "      <td>8</td>\n",
              "      <td>8</td>\n",
              "      <td>8</td>\n",
              "      <td>8</td>\n",
              "      <td>2</td>\n",
              "      <td>1</td>\n",
              "      <td>1</td>\n",
              "      <td>0</td>\n",
              "      <td>0</td>\n",
              "      <td>1</td>\n",
              "      <td>1</td>\n",
              "      <td>86.6375</td>\n",
              "    </tr>\n",
              "    <tr>\n",
              "      <th>4</th>\n",
              "      <td>16</td>\n",
              "      <td>16</td>\n",
              "      <td>16</td>\n",
              "      <td>8</td>\n",
              "      <td>8</td>\n",
              "      <td>8</td>\n",
              "      <td>8</td>\n",
              "      <td>2</td>\n",
              "      <td>1</td>\n",
              "      <td>1</td>\n",
              "      <td>0</td>\n",
              "      <td>1</td>\n",
              "      <td>0</td>\n",
              "      <td>0</td>\n",
              "      <td>118.6625</td>\n",
              "    </tr>\n",
              "  </tbody>\n",
              "</table>\n",
              "</div>"
            ],
            "text/plain": [
              "   MWG  NWG  KWG  MDIMC  NDIMC  MDIMA  ...  VWN  STRM  STRN  SA  SB       Run\n",
              "0   16   16   16      8      8      8  ...    1     0     0   0   0  116.3700\n",
              "1   16   16   16      8      8      8  ...    1     0     0   0   1   78.7050\n",
              "2   16   16   16      8      8      8  ...    1     0     0   1   0   80.5650\n",
              "3   16   16   16      8      8      8  ...    1     0     0   1   1   86.6375\n",
              "4   16   16   16      8      8      8  ...    1     0     1   0   0  118.6625\n",
              "\n",
              "[5 rows x 15 columns]"
            ]
          },
          "metadata": {
            "tags": []
          },
          "execution_count": 175
        }
      ]
    },
    {
      "cell_type": "code",
      "metadata": {
        "id": "pnsl6nytsWkO"
      },
      "source": [
        "X=df.iloc[:,0:10]"
      ],
      "execution_count": null,
      "outputs": []
    },
    {
      "cell_type": "code",
      "metadata": {
        "colab": {
          "base_uri": "https://localhost:8080/",
          "height": 419
        },
        "id": "ddy3bh5Is6oV",
        "outputId": "15c8e7f3-fbb4-4fa9-f52d-d55a078016b8"
      },
      "source": [
        "X"
      ],
      "execution_count": null,
      "outputs": [
        {
          "output_type": "execute_result",
          "data": {
            "text/html": [
              "<div>\n",
              "<style scoped>\n",
              "    .dataframe tbody tr th:only-of-type {\n",
              "        vertical-align: middle;\n",
              "    }\n",
              "\n",
              "    .dataframe tbody tr th {\n",
              "        vertical-align: top;\n",
              "    }\n",
              "\n",
              "    .dataframe thead th {\n",
              "        text-align: right;\n",
              "    }\n",
              "</style>\n",
              "<table border=\"1\" class=\"dataframe\">\n",
              "  <thead>\n",
              "    <tr style=\"text-align: right;\">\n",
              "      <th></th>\n",
              "      <th>MWG</th>\n",
              "      <th>NWG</th>\n",
              "      <th>KWG</th>\n",
              "      <th>MDIMC</th>\n",
              "      <th>NDIMC</th>\n",
              "      <th>MDIMA</th>\n",
              "      <th>NDIMB</th>\n",
              "      <th>KWI</th>\n",
              "      <th>VWM</th>\n",
              "      <th>VWN</th>\n",
              "    </tr>\n",
              "  </thead>\n",
              "  <tbody>\n",
              "    <tr>\n",
              "      <th>0</th>\n",
              "      <td>16</td>\n",
              "      <td>16</td>\n",
              "      <td>16</td>\n",
              "      <td>8</td>\n",
              "      <td>8</td>\n",
              "      <td>8</td>\n",
              "      <td>8</td>\n",
              "      <td>2</td>\n",
              "      <td>1</td>\n",
              "      <td>1</td>\n",
              "    </tr>\n",
              "    <tr>\n",
              "      <th>1</th>\n",
              "      <td>16</td>\n",
              "      <td>16</td>\n",
              "      <td>16</td>\n",
              "      <td>8</td>\n",
              "      <td>8</td>\n",
              "      <td>8</td>\n",
              "      <td>8</td>\n",
              "      <td>2</td>\n",
              "      <td>1</td>\n",
              "      <td>1</td>\n",
              "    </tr>\n",
              "    <tr>\n",
              "      <th>2</th>\n",
              "      <td>16</td>\n",
              "      <td>16</td>\n",
              "      <td>16</td>\n",
              "      <td>8</td>\n",
              "      <td>8</td>\n",
              "      <td>8</td>\n",
              "      <td>8</td>\n",
              "      <td>2</td>\n",
              "      <td>1</td>\n",
              "      <td>1</td>\n",
              "    </tr>\n",
              "    <tr>\n",
              "      <th>3</th>\n",
              "      <td>16</td>\n",
              "      <td>16</td>\n",
              "      <td>16</td>\n",
              "      <td>8</td>\n",
              "      <td>8</td>\n",
              "      <td>8</td>\n",
              "      <td>8</td>\n",
              "      <td>2</td>\n",
              "      <td>1</td>\n",
              "      <td>1</td>\n",
              "    </tr>\n",
              "    <tr>\n",
              "      <th>4</th>\n",
              "      <td>16</td>\n",
              "      <td>16</td>\n",
              "      <td>16</td>\n",
              "      <td>8</td>\n",
              "      <td>8</td>\n",
              "      <td>8</td>\n",
              "      <td>8</td>\n",
              "      <td>2</td>\n",
              "      <td>1</td>\n",
              "      <td>1</td>\n",
              "    </tr>\n",
              "    <tr>\n",
              "      <th>...</th>\n",
              "      <td>...</td>\n",
              "      <td>...</td>\n",
              "      <td>...</td>\n",
              "      <td>...</td>\n",
              "      <td>...</td>\n",
              "      <td>...</td>\n",
              "      <td>...</td>\n",
              "      <td>...</td>\n",
              "      <td>...</td>\n",
              "      <td>...</td>\n",
              "    </tr>\n",
              "    <tr>\n",
              "      <th>241595</th>\n",
              "      <td>128</td>\n",
              "      <td>128</td>\n",
              "      <td>32</td>\n",
              "      <td>32</td>\n",
              "      <td>32</td>\n",
              "      <td>32</td>\n",
              "      <td>32</td>\n",
              "      <td>8</td>\n",
              "      <td>4</td>\n",
              "      <td>4</td>\n",
              "    </tr>\n",
              "    <tr>\n",
              "      <th>241596</th>\n",
              "      <td>128</td>\n",
              "      <td>128</td>\n",
              "      <td>32</td>\n",
              "      <td>32</td>\n",
              "      <td>32</td>\n",
              "      <td>32</td>\n",
              "      <td>32</td>\n",
              "      <td>8</td>\n",
              "      <td>4</td>\n",
              "      <td>4</td>\n",
              "    </tr>\n",
              "    <tr>\n",
              "      <th>241597</th>\n",
              "      <td>128</td>\n",
              "      <td>128</td>\n",
              "      <td>32</td>\n",
              "      <td>32</td>\n",
              "      <td>32</td>\n",
              "      <td>32</td>\n",
              "      <td>32</td>\n",
              "      <td>8</td>\n",
              "      <td>4</td>\n",
              "      <td>4</td>\n",
              "    </tr>\n",
              "    <tr>\n",
              "      <th>241598</th>\n",
              "      <td>128</td>\n",
              "      <td>128</td>\n",
              "      <td>32</td>\n",
              "      <td>32</td>\n",
              "      <td>32</td>\n",
              "      <td>32</td>\n",
              "      <td>32</td>\n",
              "      <td>8</td>\n",
              "      <td>4</td>\n",
              "      <td>4</td>\n",
              "    </tr>\n",
              "    <tr>\n",
              "      <th>241599</th>\n",
              "      <td>128</td>\n",
              "      <td>128</td>\n",
              "      <td>32</td>\n",
              "      <td>32</td>\n",
              "      <td>32</td>\n",
              "      <td>32</td>\n",
              "      <td>32</td>\n",
              "      <td>8</td>\n",
              "      <td>4</td>\n",
              "      <td>4</td>\n",
              "    </tr>\n",
              "  </tbody>\n",
              "</table>\n",
              "<p>241600 rows × 10 columns</p>\n",
              "</div>"
            ],
            "text/plain": [
              "        MWG  NWG  KWG  MDIMC  NDIMC  MDIMA  NDIMB  KWI  VWM  VWN\n",
              "0        16   16   16      8      8      8      8    2    1    1\n",
              "1        16   16   16      8      8      8      8    2    1    1\n",
              "2        16   16   16      8      8      8      8    2    1    1\n",
              "3        16   16   16      8      8      8      8    2    1    1\n",
              "4        16   16   16      8      8      8      8    2    1    1\n",
              "...     ...  ...  ...    ...    ...    ...    ...  ...  ...  ...\n",
              "241595  128  128   32     32     32     32     32    8    4    4\n",
              "241596  128  128   32     32     32     32     32    8    4    4\n",
              "241597  128  128   32     32     32     32     32    8    4    4\n",
              "241598  128  128   32     32     32     32     32    8    4    4\n",
              "241599  128  128   32     32     32     32     32    8    4    4\n",
              "\n",
              "[241600 rows x 10 columns]"
            ]
          },
          "metadata": {
            "tags": []
          },
          "execution_count": 196
        }
      ]
    },
    {
      "cell_type": "code",
      "metadata": {
        "id": "LyaKnx35s7mD"
      },
      "source": [
        "y=df.iloc[:,14]"
      ],
      "execution_count": null,
      "outputs": []
    },
    {
      "cell_type": "code",
      "metadata": {
        "colab": {
          "base_uri": "https://localhost:8080/"
        },
        "id": "Ezk2oIywt2o2",
        "outputId": "18e1dcc4-64ab-487f-c500-9e5f69f533a4"
      },
      "source": [
        "y"
      ],
      "execution_count": null,
      "outputs": [
        {
          "output_type": "execute_result",
          "data": {
            "text/plain": [
              "0         116.3700\n",
              "1          78.7050\n",
              "2          80.5650\n",
              "3          86.6375\n",
              "4         118.6625\n",
              "            ...   \n",
              "241595     17.8175\n",
              "241596     36.0350\n",
              "241597     35.1600\n",
              "241598     28.4525\n",
              "241599     17.8175\n",
              "Name: Run, Length: 241600, dtype: float64"
            ]
          },
          "metadata": {
            "tags": []
          },
          "execution_count": 198
        }
      ]
    },
    {
      "cell_type": "code",
      "metadata": {
        "id": "GhNEvsMYuDnf"
      },
      "source": [
        "from sklearn.model_selection import train_test_split\n",
        "from sklearn.preprocessing import StandardScaler\n",
        "from sklearn.metrics import mean_squared_error"
      ],
      "execution_count": null,
      "outputs": []
    },
    {
      "cell_type": "code",
      "metadata": {
        "id": "s1HWHqHNw57B"
      },
      "source": [
        "from sklearn import linear_model"
      ],
      "execution_count": null,
      "outputs": []
    },
    {
      "cell_type": "code",
      "metadata": {
        "id": "_eIbAat8wKiZ"
      },
      "source": [
        "mse=[]"
      ],
      "execution_count": null,
      "outputs": []
    },
    {
      "cell_type": "code",
      "metadata": {
        "id": "s2nqMGsPuM1o"
      },
      "source": [
        "X_train, X_test, y_train, y_test = train_test_split(X,y,test_size = 0.3)"
      ],
      "execution_count": null,
      "outputs": []
    },
    {
      "cell_type": "code",
      "metadata": {
        "id": "8EMMX4HMw5ZR"
      },
      "source": [
        "sc = StandardScaler()\n",
        "X_train=sc.fit_transform(X_train)\n",
        "X_test= sc.transform(X_test)"
      ],
      "execution_count": null,
      "outputs": []
    },
    {
      "cell_type": "code",
      "metadata": {
        "id": "G0M7Lte6xAZw"
      },
      "source": [
        "model = linear_model.LinearRegression()"
      ],
      "execution_count": null,
      "outputs": []
    },
    {
      "cell_type": "code",
      "metadata": {
        "colab": {
          "base_uri": "https://localhost:8080/"
        },
        "id": "SMATQIazxC47",
        "outputId": "c1bac1b2-eb27-4018-de38-5be552d34fc1"
      },
      "source": [
        "model.fit(X_train, y_train)"
      ],
      "execution_count": null,
      "outputs": [
        {
          "output_type": "execute_result",
          "data": {
            "text/plain": [
              "LinearRegression(copy_X=True, fit_intercept=True, n_jobs=None, normalize=False)"
            ]
          },
          "metadata": {
            "tags": []
          },
          "execution_count": 205
        }
      ]
    },
    {
      "cell_type": "code",
      "metadata": {
        "id": "tT0nsE2UxLiW"
      },
      "source": [
        "y_pred = model.predict(X_train)"
      ],
      "execution_count": null,
      "outputs": []
    },
    {
      "cell_type": "code",
      "metadata": {
        "id": "YMcmu6Z7xigp"
      },
      "source": [
        "r2 = r2_score(y_train,y_pred)"
      ],
      "execution_count": null,
      "outputs": []
    },
    {
      "cell_type": "code",
      "metadata": {
        "colab": {
          "base_uri": "https://localhost:8080/"
        },
        "id": "RsXcl9Klx0rK",
        "outputId": "2c83d012-1149-46cf-a486-e9320aaca60b"
      },
      "source": [
        "r2"
      ],
      "execution_count": null,
      "outputs": [
        {
          "output_type": "execute_result",
          "data": {
            "text/plain": [
              "0.39928162841605574"
            ]
          },
          "metadata": {
            "tags": []
          },
          "execution_count": 208
        }
      ]
    },
    {
      "cell_type": "code",
      "metadata": {
        "colab": {
          "base_uri": "https://localhost:8080/"
        },
        "id": "FV1qzC1Nx1ve",
        "outputId": "42eb9909-ba02-4184-b9d5-06bb51d7e491"
      },
      "source": [
        "# calculate mean square error\n",
        "\n",
        "mse = mean_squared_error(y_train, y_pred)\n",
        "\n",
        "mse"
      ],
      "execution_count": null,
      "outputs": [
        {
          "output_type": "execute_result",
          "data": {
            "text/plain": [
              "80562.87034598191"
            ]
          },
          "metadata": {
            "tags": []
          },
          "execution_count": 209
        }
      ]
    },
    {
      "cell_type": "code",
      "metadata": {
        "id": "Ox8hDASDBxlU"
      },
      "source": [
        "import seaborn as sns"
      ],
      "execution_count": null,
      "outputs": []
    },
    {
      "cell_type": "code",
      "metadata": {
        "id": "NNmU4xtQCEDV"
      },
      "source": [
        "MWG = df.groupby('MWG')['MWG'].count()"
      ],
      "execution_count": null,
      "outputs": []
    },
    {
      "cell_type": "code",
      "metadata": {
        "colab": {
          "base_uri": "https://localhost:8080/",
          "height": 296
        },
        "id": "Gw-f0CsAEBdk",
        "outputId": "e0213638-3a3c-4bab-af28-9b88cd0882c0"
      },
      "source": [
        "sns.barplot(x=MWG.index,y=MWG.values)"
      ],
      "execution_count": null,
      "outputs": [
        {
          "output_type": "execute_result",
          "data": {
            "text/plain": [
              "<matplotlib.axes._subplots.AxesSubplot at 0x7f96542aec90>"
            ]
          },
          "metadata": {
            "tags": []
          },
          "execution_count": 224
        },
        {
          "output_type": "display_data",
          "data": {
            "image/png": "[encoded data removed]",
            "text/plain": [
              "<Figure size 432x288 with 1 Axes>"
            ]
          },
          "metadata": {
            "tags": [],
            "needs_background": "light"
          }
        }
      ]
    },
    {
      "cell_type": "code",
      "metadata": {
        "colab": {
          "base_uri": "https://localhost:8080/",
          "height": 296
        },
        "id": "uvm6UVLdEZEQ",
        "outputId": "d31444d4-fa0f-442e-f688-8245fbbce2ce"
      },
      "source": [
        "MDIMC = df.groupby('MDIMC')['MDIMC'].count()\n",
        "\n",
        "sns.barplot(x=MDIMC.index,y=MDIMC.values)"
      ],
      "execution_count": null,
      "outputs": [
        {
          "output_type": "execute_result",
          "data": {
            "text/plain": [
              "<matplotlib.axes._subplots.AxesSubplot at 0x7f9653bc1390>"
            ]
          },
          "metadata": {
            "tags": []
          },
          "execution_count": 227
        },
        {
          "output_type": "display_data",
          "data": {
            "image/png": "[encoded data removed]",
            "text/plain": [
              "<Figure size 432x288 with 1 Axes>"
            ]
          },
          "metadata": {
            "tags": [],
            "needs_background": "light"
          }
        }
      ]
    },
    {
      "cell_type": "code",
      "metadata": {
        "id": "HeCLE7M-Eoyu",
        "colab": {
          "base_uri": "https://localhost:8080/",
          "height": 520
        },
        "outputId": "79cc95a4-a307-4bd7-f35b-862c58eb14a4"
      },
      "source": [
        "import matplotlib.pyplot as plt\n",
        "\n",
        "fig = plt.figure(figsize=(16,9))\n",
        "ax  = fig.gca(projection = \"3d\")\n",
        "\n",
        "plot =  ax.scatter(df[\"MDIMC\"],\n",
        "           df[\"MDIMA\"],\n",
        "           df[\"NDIMB\"],\n",
        "           linewidth=1,edgecolor =\"k\",\n",
        "           c=df[\"Run\"],s=100,cmap=\"hot\")\n",
        "\n",
        "ax.set_xlabel(\"MDIMC\")\n",
        "ax.set_ylabel(\"MDIMA\")\n",
        "ax.set_zlabel(\"NDIMB\")\n",
        "\n",
        "lab = fig.colorbar(plot,shrink=.5,aspect=5)\n",
        "lab.set_label(\"Run\",fontsize = 15)\n",
        "\n",
        "plt.title(\"3D plot for STRN, SA and SB \",color=\"red\")\n",
        "plt.show()"
      ],
      "execution_count": null,
      "outputs": [
        {
          "output_type": "display_data",
          "data": {
            "image/png": "[encoded data removed]",
            "text/plain": [
              "<Figure size 1152x648 with 2 Axes>"
            ]
          },
          "metadata": {
            "tags": [],
            "needs_background": "light"
          }
        }
      ]
    },
    {
      "cell_type": "code",
      "metadata": {
        "id": "yO3Y5RLhK3QS"
      },
      "source": [
        ""
      ],
      "execution_count": null,
      "outputs": []
    }
  ]
}